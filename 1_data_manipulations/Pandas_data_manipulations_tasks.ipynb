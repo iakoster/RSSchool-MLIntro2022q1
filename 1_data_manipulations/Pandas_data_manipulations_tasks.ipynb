{
 "cells": [
  {
   "cell_type": "markdown",
   "id": "6d6010da",
   "metadata": {},
   "source": [
    "# How to complete this assignment\n",
    "First, download [this Kaggle dataset](https://www.kaggle.com/hugomathien/soccer) and extract *sqlite* database. You may need to register at https://www.kaggle.com/ beforehand. Then complete 15 graded tasks below, the score is given in brackets. Finally submit the resulting `.ipynb` file to rs-app Auto-test.\n",
    "\n",
    "- Do not delete or rename the variables given before the inscription `#your code here`, they are needed for the correct verification.\n",
    "- Do not change the code in the last Notebook cell, it is required for the server check.\n",
    "- Your Notebook must run completely without errors to be graded! Please check everything before submission by going *Cell -> Run All*"
   ]
  },
  {
   "cell_type": "markdown",
   "id": "0dbd5f9a",
   "metadata": {},
   "source": [
    "## Some important notes\n",
    "- If you need to **calculate the number of \"something\"** that means we expect you to assign an Integer to the given variable\n",
    "- If you need to **make a list of \"something\"** we expect you to assign a Python list with appropriate values to the given variable\n",
    "- If you need to find a **specifiс player, day of the week, team, etc.** we expect you to assign a String with the full name of the entity to the given variable (`player_name`, day of week full name, `team_name`, etc.)"
   ]
  },
  {
   "cell_type": "code",
   "execution_count": 39,
   "id": "f52b1bac",
   "metadata": {},
   "outputs": [],
   "source": [
    "import sqlite3\n",
    "import pandas as pd\n",
    "import numpy as np\n",
    "import datetime as dt\n",
    "import os\n",
    "\n",
    "pd.set_option('display.max_column', None)"
   ]
  },
  {
   "cell_type": "code",
   "execution_count": 40,
   "id": "8ebe6afd",
   "metadata": {},
   "outputs": [],
   "source": [
    "# Leave that code unchanged, it is required for the server check!\n",
    "db = sqlite3.connect(os.environ.get(\"DB_PATH\") or 'database.sqlite')"
   ]
  },
  {
   "cell_type": "code",
   "execution_count": 41,
   "id": "9860d0d0",
   "metadata": {},
   "outputs": [],
   "source": [
    "# You may load the data from SQL table directly to the Pandas dataframe as\n",
    "player_data = pd.read_sql(\"SELECT * FROM Player;\", db)\n",
    "match_data = pd.read_sql(\"SELECT * FROM Match;\", db)\n",
    "leagues_data = pd.read_sql(\"SELECT * FROM League;\", db)\n",
    "player_attribute_data = pd.read_sql(\"SELECT * FROM Player_Attributes;\", db)\n",
    "team_data = pd.read_sql(\"SELECT * FROM Team;\", db)"
   ]
  },
  {
   "cell_type": "code",
   "execution_count": 42,
   "id": "7e69a7af",
   "metadata": {},
   "outputs": [
    {
     "data": {
      "text/plain": "   id  player_api_id         player_name  player_fifa_api_id  \\\n0   1         505942  Aaron Appindangoye              218353   \n1   2         155782     Aaron Cresswell              189615   \n2   3         162549         Aaron Doran              186170   \n3   4          30572       Aaron Galindo              140161   \n4   5          23780        Aaron Hughes               17725   \n\n              birthday  height  weight  \n0  1992-02-29 00:00:00  182.88     187  \n1  1989-12-15 00:00:00  170.18     146  \n2  1991-05-13 00:00:00  170.18     163  \n3  1982-05-08 00:00:00  182.88     198  \n4  1979-11-08 00:00:00  182.88     154  ",
      "text/html": "<div>\n<style scoped>\n    .dataframe tbody tr th:only-of-type {\n        vertical-align: middle;\n    }\n\n    .dataframe tbody tr th {\n        vertical-align: top;\n    }\n\n    .dataframe thead th {\n        text-align: right;\n    }\n</style>\n<table border=\"1\" class=\"dataframe\">\n  <thead>\n    <tr style=\"text-align: right;\">\n      <th></th>\n      <th>id</th>\n      <th>player_api_id</th>\n      <th>player_name</th>\n      <th>player_fifa_api_id</th>\n      <th>birthday</th>\n      <th>height</th>\n      <th>weight</th>\n    </tr>\n  </thead>\n  <tbody>\n    <tr>\n      <th>0</th>\n      <td>1</td>\n      <td>505942</td>\n      <td>Aaron Appindangoye</td>\n      <td>218353</td>\n      <td>1992-02-29 00:00:00</td>\n      <td>182.88</td>\n      <td>187</td>\n    </tr>\n    <tr>\n      <th>1</th>\n      <td>2</td>\n      <td>155782</td>\n      <td>Aaron Cresswell</td>\n      <td>189615</td>\n      <td>1989-12-15 00:00:00</td>\n      <td>170.18</td>\n      <td>146</td>\n    </tr>\n    <tr>\n      <th>2</th>\n      <td>3</td>\n      <td>162549</td>\n      <td>Aaron Doran</td>\n      <td>186170</td>\n      <td>1991-05-13 00:00:00</td>\n      <td>170.18</td>\n      <td>163</td>\n    </tr>\n    <tr>\n      <th>3</th>\n      <td>4</td>\n      <td>30572</td>\n      <td>Aaron Galindo</td>\n      <td>140161</td>\n      <td>1982-05-08 00:00:00</td>\n      <td>182.88</td>\n      <td>198</td>\n    </tr>\n    <tr>\n      <th>4</th>\n      <td>5</td>\n      <td>23780</td>\n      <td>Aaron Hughes</td>\n      <td>17725</td>\n      <td>1979-11-08 00:00:00</td>\n      <td>182.88</td>\n      <td>154</td>\n    </tr>\n  </tbody>\n</table>\n</div>"
     },
     "execution_count": 42,
     "metadata": {},
     "output_type": "execute_result"
    }
   ],
   "source": [
    "player_data.head()"
   ]
  },
  {
   "cell_type": "markdown",
   "id": "f8b23f3a",
   "metadata": {},
   "source": [
    "**Task 1 (0.25 point).** Calculate the number of players with a height between 180 and 190 inclusive"
   ]
  },
  {
   "cell_type": "code",
   "execution_count": 43,
   "id": "7cd6f780",
   "metadata": {},
   "outputs": [],
   "source": [
    "players_180_190 = player_data[(player_data['height'] <= 190) & (player_data['height'] >= 180)].shape[0]"
   ]
  },
  {
   "cell_type": "code",
   "execution_count": 44,
   "outputs": [],
   "source": [
    "assert(isinstance(players_180_190, int))"
   ],
   "metadata": {
    "collapsed": false,
    "pycharm": {
     "name": "#%%\n"
    }
   }
  },
  {
   "cell_type": "markdown",
   "source": [
    "**Task 2 (0.25 point).** Calculate the number of players born in 1980. <br>\n",
    "**Hint:** you may want to cast your 'birthday' column to DateTime type by [pandas.to_datetime](https://pandas.pydata.org/docs/reference/api/pandas.to_datetime.html)"
   ],
   "metadata": {
    "collapsed": false
   }
  },
  {
   "cell_type": "code",
   "execution_count": 45,
   "id": "ff21f7a2",
   "metadata": {},
   "outputs": [],
   "source": [
    "players_1980 = player_data[pd.to_datetime(player_data['birthday']).dt.year == 1980].shape[0]"
   ]
  },
  {
   "cell_type": "code",
   "execution_count": 46,
   "outputs": [],
   "source": [
    "assert(isinstance(players_1980, int))"
   ],
   "metadata": {
    "collapsed": false,
    "pycharm": {
     "name": "#%%\n"
    }
   }
  },
  {
   "cell_type": "markdown",
   "id": "70d1dea0",
   "metadata": {},
   "source": [
    "**Task 3 (0.25 point).** Make a list of the top 10 players with the highest weight sorted in descending order. If there are several players with the same weight put them in the lexicographic order by name."
   ]
  },
  {
   "cell_type": "code",
   "execution_count": 47,
   "id": "b0dbdaf5",
   "metadata": {},
   "outputs": [],
   "source": [
    "highest_players = player_data.sort_values(by=['weight', 'player_name'], ascending=(False, True))\\\n",
    "    ['player_name'].head(10).to_list()"
   ]
  },
  {
   "cell_type": "code",
   "execution_count": 48,
   "outputs": [],
   "source": [
    "assert(len(highest_players) == 10)\n",
    "assert(isinstance(highest_players, list))\n",
    "for i in range(10):\n",
    "    assert(isinstance(highest_players[i], str))"
   ],
   "metadata": {
    "collapsed": false,
    "pycharm": {
     "name": "#%%\n"
    }
   }
  },
  {
   "cell_type": "markdown",
   "id": "ff30607f",
   "metadata": {},
   "source": [
    "**Task 4 (0.5 point).** Make a list of tuples containing years along with the number of players born in that year from 1980 up to 1990. <br>\n",
    "**Structure example**: [(1980, 123), (1981, 140) ..., (1990, 83)] -> There were born 123 players in 1980, there were born 140 players in 1981 and etc."
   ]
  },
  {
   "cell_type": "code",
   "execution_count": 49,
   "id": "9b609f1c",
   "metadata": {},
   "outputs": [],
   "source": [
    "player_datetime = pd.to_datetime(player_data['birthday'])\n",
    "years_born_players = list(player_datetime.dt.year[\n",
    "                              (player_datetime.dt.year >= 1980) &\n",
    "                              (player_datetime.dt.year <= 1990)]\n",
    "                          .value_counts().to_dict().items())\n",
    "years_born_players.sort()"
   ]
  },
  {
   "cell_type": "code",
   "execution_count": 50,
   "outputs": [],
   "source": [
    "assert(len(years_born_players) == 11)\n",
    "assert(isinstance(years_born_players, list))\n",
    "for i in range(10):\n",
    "    assert(isinstance(years_born_players[i], tuple))\n",
    "    assert(isinstance(years_born_players[i][0], int))\n",
    "    assert(isinstance(years_born_players[i][1], int))"
   ],
   "metadata": {
    "collapsed": false,
    "pycharm": {
     "name": "#%%\n"
    }
   }
  },
  {
   "cell_type": "markdown",
   "id": "33cbd931",
   "metadata": {},
   "source": [
    "**Task 5 (0.5 point).** Calculate the mean and the standard deviation of the players' **height** with the name **Adriano**. <br>\n",
    "**Note:** Name is represented by the first part of `player_name`."
   ]
  },
  {
   "cell_type": "code",
   "execution_count": 165,
   "id": "614fac31",
   "metadata": {},
   "outputs": [
    {
     "data": {
      "text/plain": "(182.118, 5.086346036203199)"
     },
     "execution_count": 165,
     "metadata": {},
     "output_type": "execute_result"
    }
   ],
   "source": [
    "players_adriano = player_data[player_data['player_name'].str.match(r'Adriano( .+)?')]\n",
    "adriano_mean, adriano_std = players_adriano['height'].mean(), players_adriano['height'].std()"
   ]
  },
  {
   "cell_type": "code",
   "execution_count": 52,
   "outputs": [],
   "source": [
    "assert(isinstance(adriano_mean, float))\n",
    "assert(isinstance(adriano_std, float))"
   ],
   "metadata": {
    "collapsed": false,
    "pycharm": {
     "name": "#%%\n"
    }
   }
  },
  {
   "cell_type": "markdown",
   "id": "8a361dfd",
   "metadata": {},
   "source": [
    "**Task 6 (0.75 point).** How many players were born on each day of the week? Find the day of the week with the minimum number of players born."
   ]
  },
  {
   "cell_type": "code",
   "execution_count": 53,
   "id": "c140be4f",
   "metadata": {},
   "outputs": [],
   "source": [
    "dow_with_min_players_born =player_datetime.dt.day_name().value_counts().idxmin()"
   ]
  },
  {
   "cell_type": "code",
   "execution_count": 54,
   "outputs": [],
   "source": [
    "assert(isinstance(dow_with_min_players_born, str))"
   ],
   "metadata": {
    "collapsed": false,
    "pycharm": {
     "name": "#%%\n"
    }
   }
  },
  {
   "cell_type": "markdown",
   "id": "dc7428be",
   "metadata": {},
   "source": [
    "**Task 7 (0.75 point).** Find a league with the most matches in total. If there are several leagues with the same amount of matches, take the first in the lexical order."
   ]
  },
  {
   "cell_type": "code",
   "execution_count": 55,
   "id": "ff3113ac",
   "metadata": {},
   "outputs": [],
   "source": [
    "league_matches = match_data['league_id'].value_counts()\n",
    "leagues_most_matches =  league_matches[league_matches == league_matches.max()].index\n",
    "\n",
    "league_most_matches = leagues_data.loc[leagues_data['id'].isin(leagues_most_matches)]['name'].sort_values().values[0]"
   ]
  },
  {
   "cell_type": "code",
   "execution_count": 56,
   "outputs": [],
   "source": [
    "assert(isinstance(league_most_matches, str))"
   ],
   "metadata": {
    "collapsed": false,
    "pycharm": {
     "name": "#%%\n"
    }
   }
  },
  {
   "cell_type": "markdown",
   "id": "97199b7d",
   "metadata": {},
   "source": [
    "**Task 8 (1.25 point).** Find a player who participated in the largest number of matches during the whole match history. Assign a `player_name` to the given variable"
   ]
  },
  {
   "cell_type": "code",
   "execution_count": 57,
   "id": "ec31bc69",
   "metadata": {},
   "outputs": [],
   "source": [
    "player_matches = pd.concat((match_data.filter(regex=r'home_player_\\d'), match_data.filter(regex=r'away_player_\\d')), axis=1)\n",
    "\n",
    "player_matches_count = pd.DataFrame()\n",
    "for column_name in player_matches:\n",
    "    player_matches_count = pd.concat((player_matches_count, player_matches[column_name].value_counts()), axis=1)\n",
    "\n",
    "max_matches_player = player_data[player_data['player_api_id'] == player_matches_count.sum(axis=1).idxmax()]['player_name'].values[0]"
   ]
  },
  {
   "cell_type": "code",
   "execution_count": 58,
   "outputs": [],
   "source": [
    "assert(isinstance(max_matches_player, str))"
   ],
   "metadata": {
    "collapsed": false,
    "pycharm": {
     "name": "#%%\n"
    }
   }
  },
  {
   "cell_type": "markdown",
   "id": "dbc68bfe",
   "metadata": {},
   "source": [
    "**Task 9 (1.5 point).** List top-5 tuples of most correlated **player's characteristics** in the descending order of the absolute [Pearson's coefficient](https://en.wikipedia.org/wiki/Pearson_correlation_coefficient) value.\n",
    "\n",
    "**Note 1:** Players characteristics are all the columns in `Player_Attributes` table except `[id, player_fifa_api_id, player_api_id, date, preferred_foot, attacking_work_rate, defensive_work_rate]`). <br>\n",
    "**Note 2:** Exclude duplicated pairs from the list. E.g. ('gk_handling', 'gk_reflexes') and ('gk_reflexes', 'gk_handling') are duplicates, leave just one of them in the resulting list.\n",
    "\n",
    "**Hint:** You may use [dataframe.corr()](https://pandas.pydata.org/docs/reference/api/pandas.DataFrame.corr.html) for calculating pairwise Pearson correlation."
   ]
  },
  {
   "cell_type": "code",
   "execution_count": 59,
   "id": "47c1412e",
   "metadata": {},
   "outputs": [],
   "source": [
    "# вернуться и улучшить (сделать таблицу из 3-х колонок - пара и значение). А то гавно перегруженное\n",
    "\n",
    "corr_characteristics = player_attribute_data.drop([\n",
    "    'id', 'player_fifa_api_id', 'player_api_id', 'date',\n",
    "    'preferred_foot', 'attacking_work_rate', 'defensive_work_rate'\n",
    "], axis=1).corr()\n",
    "\n",
    "corr_char_values = corr_characteristics[corr_characteristics != 1].values.flatten()\n",
    "corr_char_values = np.abs(corr_char_values[~np.isnan(corr_char_values)])\n",
    "corr_char_values[::-1].sort()\n",
    "\n",
    "raw_top_correlated_features = []\n",
    "nlargest = 0\n",
    "while len(raw_top_correlated_features) < 5:\n",
    "    cell = corr_characteristics[corr_characteristics == corr_char_values[nlargest]].dropna(how='all').dropna(axis=1, how='all')\n",
    "    column, row = cell.columns[0], cell.index[1]\n",
    "    corr_feature = {column, row, float(corr_char_values[nlargest])}\n",
    "    if corr_feature not in raw_top_correlated_features:\n",
    "        raw_top_correlated_features.append(corr_feature)\n",
    "    nlargest += 1\n",
    "raw_top_correlated_features = list(map(tuple, raw_top_correlated_features))\n",
    "\n",
    "top_correlated_features = []\n",
    "for val1, val2, val3 in raw_top_correlated_features:\n",
    "    if isinstance(val1, float):\n",
    "        top_correlated_features.append((val2, val3))\n",
    "    elif isinstance(val2, float):\n",
    "        top_correlated_features.append((val1, val3))\n",
    "    else:\n",
    "        top_correlated_features.append((val1, val2))"
   ]
  },
  {
   "cell_type": "code",
   "execution_count": 60,
   "outputs": [],
   "source": [
    "assert(len(top_correlated_features) == 5)\n",
    "assert(isinstance(top_correlated_features, list))\n",
    "for i in range(5):\n",
    "    assert(isinstance(top_correlated_features[i], tuple))\n",
    "    assert(isinstance(top_correlated_features[i][0], str))\n",
    "    assert(isinstance(top_correlated_features[i][1], str))"
   ],
   "metadata": {
    "collapsed": false,
    "pycharm": {
     "name": "#%%\n"
    }
   }
  },
  {
   "cell_type": "markdown",
   "id": "7d3d8fd3",
   "metadata": {},
   "source": [
    "**Task 10 (2 points).** Find top-5 most similar players to **Neymar** whose names are given. The similarity is measured as [Euclidean distance](https://en.wikipedia.org/wiki/Euclidean_distance) between vectors of players' characteristics (described in the task above). Put their names in a vector in ascending order by Euclidean distance and sorted by `player_name` if the distance is the same<br>\n",
    "**Note 1:** There are many records for some players in the `Player_Attributes` table. You need to take the freshest data (characteristics with the most recent `date`). <br>\n",
    "**Note 2:** Use pure values of the characteristics even if you are aware of such preprocessing technics as normalization. <br>\n",
    "**Note 3:** Please avoid using any built-in methods for calculating the Euclidean distance between vectors, think about implementing your own."
   ]
  },
  {
   "cell_type": "code",
   "execution_count": 61,
   "id": "fac5a571",
   "metadata": {},
   "outputs": [],
   "source": [
    "players_characteristics = player_attribute_data.drop([\n",
    "    'id', 'player_fifa_api_id',\n",
    "    'preferred_foot', 'attacking_work_rate', 'defensive_work_rate'\n",
    "], axis=1)\n",
    "players_characteristics['date'] = pd.to_datetime(players_characteristics['date'])\n",
    "\n",
    "neymar_player_id = player_data[player_data['player_name'] == 'Neymar']['player_api_id'].values[0]\n",
    "neymar_characteristics = players_characteristics[\n",
    "    players_characteristics['player_api_id'] == neymar_player_id]\\\n",
    "    .sort_values(by=['date'], ascending=False).iloc[0]\\\n",
    "    .drop(['player_api_id', 'date'])\n",
    "\n",
    "players_unique_characteristics = players_characteristics.sort_values(\n",
    "    by=['player_api_id', 'date'], ascending=False)\\\n",
    "    .drop_duplicates(subset=['player_api_id'], keep='first').drop(['date'], axis=1)\n",
    "players_neymar_distance = players_unique_characteristics.subtract(neymar_characteristics, axis=1).drop('player_api_id', axis=1) ** 2\n",
    "players_neymar_distance['distance'] = players_neymar_distance.sum(axis=1) ** 0.5\n",
    "players_neymar_distance = players_neymar_distance[players_neymar_distance['distance'] != 0].sort_values(by=['distance'])\n",
    "\n",
    "neymar_similarities = [] # как то можно по красивому\n",
    "for player_id in players_unique_characteristics.loc[players_neymar_distance.head().index]['player_api_id']:\n",
    "    neymar_similarities.append(player_data[player_data['player_api_id'] == player_id]['player_name'].values[0])"
   ]
  },
  {
   "cell_type": "code",
   "execution_count": 62,
   "outputs": [],
   "source": [
    "assert(len(neymar_similarities) == 5)\n",
    "assert(isinstance(neymar_similarities, list))\n",
    "for i in range(5):\n",
    "    assert(isinstance(neymar_similarities[i], str))"
   ],
   "metadata": {
    "collapsed": false,
    "pycharm": {
     "name": "#%%\n"
    }
   }
  },
  {
   "cell_type": "markdown",
   "id": "a3a7f878",
   "metadata": {},
   "source": [
    "**Task 11 (1 point).** Calculate the number of home matches played by the **Borussia Dortmund** team in **Germany 1. Bundesliga** in season **2008/2009**"
   ]
  },
  {
   "cell_type": "code",
   "execution_count": 63,
   "id": "bdf5a267",
   "metadata": {},
   "outputs": [],
   "source": [
    "bundesliga_id = leagues_data[leagues_data['name'] == 'Germany 1. Bundesliga']['id'].values[0]\n",
    "borussia_bundesliga_2008_2009_matches = match_data[\n",
    "    (match_data['home_team_api_id'] == team_data[team_data['team_long_name'] == 'Borussia Dortmund']['team_api_id'].values[0]) &\n",
    "    (match_data['season'] == '2008/2009') & (match_data['league_id'] == bundesliga_id)].shape[0]"
   ]
  },
  {
   "cell_type": "code",
   "execution_count": 64,
   "outputs": [],
   "source": [
    "assert(isinstance(borussia_bundesliga_2008_2009_matches, int))"
   ],
   "metadata": {
    "collapsed": false,
    "pycharm": {
     "name": "#%%\n"
    }
   }
  },
  {
   "cell_type": "markdown",
   "id": "69dca9a5",
   "metadata": {},
   "source": [
    "**Task 12 (1 point).** Find a team having the most matches (both home and away!) in the **Germany 1. Bundesliga** in **2008/2009** season. Return number of matches."
   ]
  },
  {
   "cell_type": "code",
   "execution_count": 65,
   "id": "9969ba5c",
   "metadata": {},
   "outputs": [],
   "source": [
    "team_most_matches_bundesliga_2008_2009 = int((\n",
    "        match_data[(match_data['league_id'] == bundesliga_id) & (match_data['season'] == '2008/2009')]['home_team_api_id'].value_counts() +\n",
    "        match_data[(match_data['league_id'] == bundesliga_id) & (match_data['season'] == '2008/2009')]['away_team_api_id'].value_counts()).max())"
   ]
  },
  {
   "cell_type": "code",
   "execution_count": 66,
   "outputs": [],
   "source": [
    "assert(isinstance(team_most_matches_bundesliga_2008_2009, int))"
   ],
   "metadata": {
    "collapsed": false,
    "pycharm": {
     "name": "#%%\n"
    }
   }
  },
  {
   "cell_type": "markdown",
   "id": "2f3c65aa",
   "metadata": {},
   "source": [
    "**Task 13 (1 point).** Count total number of **Arsenal** matches (both home and away!) in the **2015/2016** season which they have won. <br><br>\n",
    "**Note:** Winning a game means scoring **more** goals than an opponent."
   ]
  },
  {
   "cell_type": "code",
   "execution_count": 67,
   "id": "52456f34",
   "metadata": {},
   "outputs": [],
   "source": [
    "arsenal_id = team_data[team_data['team_long_name'] == 'Arsenal']['team_api_id'].values[0]\n",
    "arsenal_mathes_2015_2016 = match_data[(match_data['season'] == '2015/2016') & ((match_data['home_team_api_id'] == arsenal_id) | (match_data['away_team_api_id'] == arsenal_id))]\n",
    "arsenal_home_matches = arsenal_mathes_2015_2016[(arsenal_mathes_2015_2016['home_team_api_id'] == arsenal_id)]\n",
    "arsenal_away_matches = arsenal_mathes_2015_2016[(arsenal_mathes_2015_2016['away_team_api_id'] == arsenal_id)]\n",
    "\n",
    "arsenal_won_matches_2015_2016 = arsenal_home_matches[arsenal_home_matches['home_team_goal'] > arsenal_home_matches['away_team_goal']].shape[0] + \\\n",
    "    arsenal_away_matches[arsenal_away_matches['home_team_goal'] < arsenal_away_matches['away_team_goal']].shape[0]"
   ]
  },
  {
   "cell_type": "code",
   "execution_count": 68,
   "outputs": [],
   "source": [
    "assert(isinstance(arsenal_won_matches_2015_2016, int))"
   ],
   "metadata": {
    "collapsed": false,
    "pycharm": {
     "name": "#%%\n"
    }
   }
  },
  {
   "cell_type": "markdown",
   "id": "d70d5b23",
   "metadata": {},
   "source": [
    "**Task 14 (2 points).** Find a team with the highest win rate in the **2015/2016** season. Win rate means won matches / all matches. If there are several teams with the highest win rate return the first by name in lexical order"
   ]
  },
  {
   "cell_type": "code",
   "execution_count": 95,
   "id": "b1aa7db0",
   "metadata": {},
   "outputs": [
    {
     "data": {
      "text/plain": "'SL Benfica'"
     },
     "execution_count": 95,
     "metadata": {},
     "output_type": "execute_result"
    }
   ],
   "source": [
    "matches_season_2015_2016 = match_data[match_data['season'] == '2015/2016']\n",
    "\n",
    "match_season_2015_2016_winners = matches_season_2015_2016.copy()\n",
    "match_season_2015_2016_winners.loc[match_data['home_team_goal'] > match_data['away_team_goal'], 'winner_id'] = match_data['home_team_api_id']\n",
    "match_season_2015_2016_winners.loc[match_data['home_team_goal'] < match_data['away_team_goal'], 'winner_id'] = match_data['away_team_api_id']\n",
    "season_2015_2016_win_matches = match_season_2015_2016_winners['winner_id'].dropna().value_counts()\n",
    "season_2015_2016_total_matches = (matches_season_2015_2016['home_team_api_id'].value_counts() +\n",
    "                                  matches_season_2015_2016['away_team_api_id'].value_counts())\n",
    "\n",
    "team_highest_winrate_2015_2016 = team_data[team_data['team_api_id'] == (season_2015_2016_win_matches / season_2015_2016_total_matches).idxmax()]['team_long_name'].values[0]"
   ]
  },
  {
   "cell_type": "code",
   "execution_count": 96,
   "outputs": [],
   "source": [
    "assert(isinstance(team_highest_winrate_2015_2016, str))"
   ],
   "metadata": {
    "collapsed": false,
    "pycharm": {
     "name": "#%%\n"
    }
   }
  },
  {
   "cell_type": "markdown",
   "id": "f7f3b4f5",
   "metadata": {},
   "source": [
    "**Task 15 (2 points).** Determine the team with the maximum days' gap between matches in **England Premier League 2010/2011 season**. Return number of days in that gap. <br>\n",
    "**Note**: a *gap* means the number of days between two consecutive matches of the same team."
   ]
  },
  {
   "cell_type": "code",
   "execution_count": 148,
   "id": "a4c33e5f",
   "metadata": {},
   "outputs": [
    {
     "data": {
      "text/plain": "18"
     },
     "execution_count": 148,
     "metadata": {},
     "output_type": "execute_result"
    }
   ],
   "source": [
    "match_data['date'] = pd.to_datetime(match_data['date'])\n",
    "matches_england_2010_2011 = match_data[(\n",
    "        match_data['league_id'] == leagues_data[leagues_data['name'] == 'England Premier League']['id'].values[0]) &\n",
    "                                       (match_data['season'] == '2010/2011')]\n",
    "teams_id_england_2010_2011 = matches_england_2010_2011['home_team_api_id'].value_counts().index\n",
    "\n",
    "teams_match_gap = pd.DataFrame(index=teams_id_england_2010_2011, columns=['gap'])\n",
    "teams_match_gap['gap'] = pd.to_datetime(teams_match_gap['gap'])\n",
    "\n",
    "for team_id in teams_id_england_2010_2011:\n",
    "    team_matches = matches_england_2010_2011[(\n",
    "        matches_england_2010_2011['home_team_api_id'] == team_id\n",
    "                                             ) | (\n",
    "        matches_england_2010_2011['away_team_api_id'] == team_id\n",
    "    )].sort_values(by=['date'])\n",
    "    teams_match_gap.loc[team_id] = (team_matches['date'] - team_matches['date'].shift()).max()\n",
    "\n",
    "highest_gap_england_2010_2011 = teams_match_gap['gap'].max().days"
   ]
  },
  {
   "cell_type": "code",
   "execution_count": 150,
   "outputs": [],
   "source": [
    "assert(isinstance(highest_gap_england_2010_2011, int))"
   ],
   "metadata": {
    "collapsed": false,
    "pycharm": {
     "name": "#%%\n"
    }
   }
  },
  {
   "cell_type": "markdown",
   "id": "acecc77f",
   "metadata": {},
   "source": [
    "### Warning! Do not change anything in the area below"
   ]
  },
  {
   "cell_type": "code",
   "execution_count": 151,
   "id": "94c3b9be",
   "metadata": {},
   "outputs": [],
   "source": [
    "with open('student_answers.txt', 'w') as file:\n",
    "    file.write(f\"{players_180_190}\\n\")\n",
    "    file.write(f\"{players_1980}\\n\")\n",
    "    file.write(f\"{highest_players}\\n\")\n",
    "    file.write(f\"{years_born_players}\\n\")\n",
    "    file.write(f\"{round(adriano_mean, 3)} {round(adriano_std, 3)}\\n\")\n",
    "    file.write(f\"{dow_with_min_players_born}\\n\")\n",
    "    file.write(f\"{league_most_matches}\\n\")\n",
    "    file.write(f\"{max_matches_player}\\n\")\n",
    "    file.write(f\"{';'.join(['%s,%s' % tup for tup in top_correlated_features])};\\n\")\n",
    "    file.write(f\"{neymar_similarities}\\n\")\n",
    "    file.write(f\"{borussia_bundesliga_2008_2009_matches}\\n\")\n",
    "    file.write(f\"{team_most_matches_bundesliga_2008_2009}\\n\")\n",
    "    file.write(f\"{arsenal_won_matches_2015_2016}\\n\")\n",
    "    file.write(f\"{team_highest_winrate_2015_2016}\\n\")\n",
    "    file.write(f\"{highest_gap_england_2010_2011}\\n\")"
   ]
  },
  {
   "cell_type": "code",
   "execution_count": null,
   "outputs": [],
   "source": [],
   "metadata": {
    "collapsed": false,
    "pycharm": {
     "name": "#%%\n"
    }
   }
  }
 ],
 "metadata": {
  "kernelspec": {
   "display_name": "Python 3 (ipykernel)",
   "language": "python",
   "name": "python3"
  },
  "language_info": {
   "codemirror_mode": {
    "name": "ipython",
    "version": 3
   },
   "file_extension": ".py",
   "mimetype": "text/x-python",
   "name": "python",
   "nbconvert_exporter": "python",
   "pygments_lexer": "ipython3",
   "version": "3.8.12"
  }
 },
 "nbformat": 4,
 "nbformat_minor": 5
}