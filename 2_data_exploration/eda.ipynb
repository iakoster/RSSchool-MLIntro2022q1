{
 "cells": [
  {
   "cell_type": "markdown",
   "id": "b489cb9e",
   "metadata": {
    "pycharm": {
     "name": "#%% md\n"
    }
   },
   "source": [
    "# Settings"
   ]
  },
  {
   "cell_type": "code",
   "execution_count": 8,
   "outputs": [],
   "source": [
    "from pathlib import Path\n",
    "\n",
    "import pandas as pd\n",
    "pd.plotting.register_matplotlib_converters()\n",
    "from matplotlib import pyplot as plt\n",
    "%matplotlib inline\n",
    "import seaborn as sb"
   ],
   "metadata": {
    "collapsed": false,
    "pycharm": {
     "name": "#%%\n"
    }
   }
  },
  {
   "cell_type": "code",
   "execution_count": 21,
   "outputs": [
    {
     "data": {
      "text/plain": "             Survived  Pclass              Name   Sex    Age  SibSp  Parch  \\\nPassengerId                                                                  \n0                   1       1  Oconnor, Frankie  male    NaN      2      0   \n1                   0       3       Bryan, Drew  male    NaN      0      0   \n2                   0       3    Owens, Kenneth  male   0.33      1      2   \n3                   0       3     Kramer, James  male  19.00      0      0   \n4                   1       3     Bond, Michael  male  25.00      0      0   \n\n                Ticket   Fare   Cabin Embarked  \nPassengerId                                     \n0               209245  27.14  C12239        S  \n1                27323  13.35     NaN        S  \n2            CA 457703  71.29     NaN        S  \n3             A. 10866  13.04     NaN        S  \n4               427635   7.76     NaN        S  ",
      "text/html": "<div>\n<style scoped>\n    .dataframe tbody tr th:only-of-type {\n        vertical-align: middle;\n    }\n\n    .dataframe tbody tr th {\n        vertical-align: top;\n    }\n\n    .dataframe thead th {\n        text-align: right;\n    }\n</style>\n<table border=\"1\" class=\"dataframe\">\n  <thead>\n    <tr style=\"text-align: right;\">\n      <th></th>\n      <th>Survived</th>\n      <th>Pclass</th>\n      <th>Name</th>\n      <th>Sex</th>\n      <th>Age</th>\n      <th>SibSp</th>\n      <th>Parch</th>\n      <th>Ticket</th>\n      <th>Fare</th>\n      <th>Cabin</th>\n      <th>Embarked</th>\n    </tr>\n    <tr>\n      <th>PassengerId</th>\n      <th></th>\n      <th></th>\n      <th></th>\n      <th></th>\n      <th></th>\n      <th></th>\n      <th></th>\n      <th></th>\n      <th></th>\n      <th></th>\n      <th></th>\n    </tr>\n  </thead>\n  <tbody>\n    <tr>\n      <th>0</th>\n      <td>1</td>\n      <td>1</td>\n      <td>Oconnor, Frankie</td>\n      <td>male</td>\n      <td>NaN</td>\n      <td>2</td>\n      <td>0</td>\n      <td>209245</td>\n      <td>27.14</td>\n      <td>C12239</td>\n      <td>S</td>\n    </tr>\n    <tr>\n      <th>1</th>\n      <td>0</td>\n      <td>3</td>\n      <td>Bryan, Drew</td>\n      <td>male</td>\n      <td>NaN</td>\n      <td>0</td>\n      <td>0</td>\n      <td>27323</td>\n      <td>13.35</td>\n      <td>NaN</td>\n      <td>S</td>\n    </tr>\n    <tr>\n      <th>2</th>\n      <td>0</td>\n      <td>3</td>\n      <td>Owens, Kenneth</td>\n      <td>male</td>\n      <td>0.33</td>\n      <td>1</td>\n      <td>2</td>\n      <td>CA 457703</td>\n      <td>71.29</td>\n      <td>NaN</td>\n      <td>S</td>\n    </tr>\n    <tr>\n      <th>3</th>\n      <td>0</td>\n      <td>3</td>\n      <td>Kramer, James</td>\n      <td>male</td>\n      <td>19.00</td>\n      <td>0</td>\n      <td>0</td>\n      <td>A. 10866</td>\n      <td>13.04</td>\n      <td>NaN</td>\n      <td>S</td>\n    </tr>\n    <tr>\n      <th>4</th>\n      <td>1</td>\n      <td>3</td>\n      <td>Bond, Michael</td>\n      <td>male</td>\n      <td>25.00</td>\n      <td>0</td>\n      <td>0</td>\n      <td>427635</td>\n      <td>7.76</td>\n      <td>NaN</td>\n      <td>S</td>\n    </tr>\n  </tbody>\n</table>\n</div>"
     },
     "execution_count": 21,
     "metadata": {},
     "output_type": "execute_result"
    }
   ],
   "source": [
    "syntanic_data_path = Path(r'.\\data\\train.csv')\n",
    "syntanic_data = pd.read_csv(syntanic_data_path, index_col='PassengerId')\n",
    "syntanic_data.head()"
   ],
   "metadata": {
    "collapsed": false,
    "pycharm": {
     "name": "#%%\n"
    }
   }
  },
  {
   "cell_type": "markdown",
   "id": "d07912a0",
   "metadata": {},
   "source": [
    "# Context"
   ]
  },
  {
   "cell_type": "markdown",
   "source": [
    "Здесь использован синтетический набор данных, но основан на реальных данных с Титаника.\n",
    "\n",
    "В данных следующие колонки: ``` ['Survived', 'Pclass', 'Name', 'Sex', 'Age', 'SibSp', 'Parch', 'Ticket', 'Fare', 'Cabin', 'Embarked'] ```, а ```'PassengerId'``` использован как индекс строки."
   ],
   "metadata": {
    "collapsed": false,
    "pycharm": {
     "name": "#%% md\n"
    }
   }
  },
  {
   "cell_type": "code",
   "execution_count": 12,
   "id": "6b981d68",
   "metadata": {},
   "outputs": [],
   "source": []
  },
  {
   "cell_type": "markdown",
   "id": "9b4320c6",
   "metadata": {},
   "source": [
    "# Data quality assessment"
   ]
  },
  {
   "cell_type": "code",
   "execution_count": 94,
   "id": "e443ca82",
   "metadata": {},
   "outputs": [
    {
     "name": "stdout",
     "output_type": "stream",
     "text": [
      "Количество строк (пассажиров) в данных 100000\n"
     ]
    },
    {
     "data": {
      "text/plain": "<Figure size 1008x432 with 1 Axes>",
      "image/png": "[encoded data removed]"
     },
     "metadata": {
      "needs_background": "light"
     },
     "output_type": "display_data"
    },
    {
     "name": "stdout",
     "output_type": "stream",
     "text": [
      "Среди колонок наибольшее количество пропущенных значений имеет номер кабины ('Cabin' = 67.87%), далее номер билета ('Ticket' = 4.62%) и возраст ('Age' = 3.29%), а наименьшее - порт назначения ('Embarked' = 0.25%) и тариф ('Fare' = 0.13%). В остальных колонках нет пропущенных значений.\n",
      "При этом во всем датасете обнаружено 0 полностью пустых строк\n"
     ]
    }
   ],
   "source": [
    "total_rows = syntanic_data.shape[0]\n",
    "print(f'Количество строк (пассажиров) в данных {syntanic_data.shape[0]}')\n",
    "\n",
    "plt.figure(figsize=(14, 6))\n",
    "plt.title('Доля пропущенных значений в каждой из колонок')\n",
    "plt.xlabel('Наименование')\n",
    "plt.ylabel('Доля пропущенных значений')\n",
    "\n",
    "na_fraction = (syntanic_data.isna().sum() / total_rows).sort_values(ascending=False)\n",
    "sb.barplot(x=na_fraction.index, y=na_fraction)\n",
    "plt.show()\n",
    "\n",
    "print('Среди колонок наибольшее количество пропущенных значений имеет '\n",
    "      'номер кабины (\\'Cabin\\' = {:.2%}), далее номер билета '\n",
    "      '(\\'Ticket\\' = {:.2%}) и возраст (\\'Age\\' = {:.2%}), '\n",
    "      'а наименьшее - порт назначения (\\'Embarked\\' = {:.2%}) '\n",
    "      'и тариф (\\'Fare\\' = {:.2%}). В остальных колонках '\n",
    "      'нет пропущенных значений.'\\\n",
    "      .format(na_fraction['Cabin'], na_fraction['Ticket'], na_fraction['Age'],\n",
    "              na_fraction['Embarked'], na_fraction['Fare']))\n",
    "print('При этом во всем датасете обнаружено {:d} полностью пустых строк'\\\n",
    "      .format(total_rows - syntanic_data.dropna(how='all').shape[0]))"
   ]
  },
  {
   "cell_type": "code",
   "execution_count": 97,
   "outputs": [
    {
     "name": "stdout",
     "output_type": "stream",
     "text": [
      "Датасет имеет 0 строк-дубликатов\n"
     ]
    },
    {
     "data": {
      "text/plain": "<Figure size 1008x432 with 1 Axes>",
      "image/png": "[encoded data removed]"
     },
     "metadata": {
      "needs_background": "light"
     },
     "output_type": "display_data"
    },
    {
     "name": "stdout",
     "output_type": "stream",
     "text": [
      "При расчете отсутвующие значения отбрасывались. Среди данных уникальных имен 92144, номеров билетов 75331 (самый часто встречающийся билет - 'A/5 ' (601 раз)), номеров кают 26992 (что логично, так как каюты бывают многоместные и также в этих данных больше всего отсутствующих значений)\n",
      "Обычно подразумевается, что билет имеет уникальный номер. Поэтому делается предположение, что в этом поле много невалидных данных. В дальнейшем обработка может проводиться только по уникальным номерам билетов (о чем будет написано)\n"
     ]
    }
   ],
   "source": [
    "print('Датасет имеет {:d} строк-дубликатов'\\\n",
    "      .format(syntanic_data[syntanic_data.duplicated()].shape[0]))\n",
    "\n",
    "plt.figure(figsize=(14, 6))\n",
    "plt.title('Количество уникальных значений в каждой из колонок')\n",
    "plt.xlabel('Наименование')\n",
    "plt.ylabel('Количество уникальных значений')\n",
    "\n",
    "unique_values_count = syntanic_data.nunique(dropna=True).sort_values(ascending=False)\n",
    "sb.barplot(x=unique_values_count.index, y=unique_values_count)\n",
    "plt.show()\n",
    "\n",
    "duplicated_tickets = syntanic_data['Ticket'].dropna()[syntanic_data['Ticket']\\\n",
    "      .dropna().duplicated()].value_counts()\n",
    "\n",
    "print('При расчете отсутвующие значения отбрасывались. '\n",
    "      'Среди данных уникальных имен {:d}, номеров билетов {:d} '\n",
    "      '(самый часто встречающийся билет - \\'{}\\' ({:d} раз)), '\n",
    "      'номеров кают {:d} (что логично, так как каюты бывают '\n",
    "      'многоместные и также в этих данных больше всего '\n",
    "      'отсутствующих значений)'\\\n",
    "      .format(unique_values_count['Name'], unique_values_count['Ticket'],\n",
    "              duplicated_tickets.idxmax(), duplicated_tickets.max(),\n",
    "              unique_values_count['Cabin']))\n",
    "\n",
    "print('Обычно подразумевается, что билет имеет уникальный номер. Поэтому делается '\n",
    "      'предположение, что в этом поле много невалидных данных. В дальнейшем обработка '\n",
    "      'может проводиться только по уникальным номерам билетов (о чем будет написано)')"
   ],
   "metadata": {
    "collapsed": false,
    "pycharm": {
     "name": "#%%\n"
    }
   }
  },
  {
   "cell_type": "code",
   "execution_count": 100,
   "outputs": [
    {
     "name": "stdout",
     "output_type": "stream",
     "text": [
      "В ходе изучения данных выдвинуто предположение, что основной целью является выявление степени влияния различных параметров на вероятность выживания пассажира. Однако это не отбрасывает интерес к зависимостям  между другими параметрами\n"
     ]
    }
   ],
   "source": [
    "print('В ходе изучения данных выдвинуто предположение, '\n",
    "      'что основной целью является выявление степени '\n",
    "      'влияния различных параметров на вероятность выживания '\n",
    "      'пассажира. Однако это не отбрасывает интерес к зависимостям  '\n",
    "      'между другими параметрами')"
   ],
   "metadata": {
    "collapsed": false,
    "pycharm": {
     "name": "#%%\n"
    }
   }
  },
  {
   "cell_type": "markdown",
   "id": "5408eca5",
   "metadata": {},
   "source": [
    "# Data exploration"
   ]
  },
  {
   "cell_type": "code",
   "execution_count": 10,
   "id": "2417286d",
   "metadata": {},
   "outputs": [],
   "source": []
  },
  {
   "cell_type": "markdown",
   "id": "034945c8",
   "metadata": {},
   "source": [
    "# Summary"
   ]
  },
  {
   "cell_type": "code",
   "execution_count": 10,
   "id": "72e3fb13",
   "metadata": {},
   "outputs": [],
   "source": []
  }
 ],
 "metadata": {
  "kernelspec": {
   "display_name": "Python 3 (ipykernel)",
   "language": "python",
   "name": "python3"
  },
  "language_info": {
   "codemirror_mode": {
    "name": "ipython",
    "version": 3
   },
   "file_extension": ".py",
   "mimetype": "text/x-python",
   "name": "python",
   "nbconvert_exporter": "python",
   "pygments_lexer": "ipython3",
   "version": "3.8.12"
  },
  "toc": {
   "base_numbering": 1,
   "nav_menu": {},
   "number_sections": true,
   "sideBar": true,
   "skip_h1_title": false,
   "title_cell": "Table of Contents",
   "title_sidebar": "Contents",
   "toc_cell": false,
   "toc_position": {},
   "toc_section_display": true,
   "toc_window_display": false
  }
 },
 "nbformat": 4,
 "nbformat_minor": 5
}