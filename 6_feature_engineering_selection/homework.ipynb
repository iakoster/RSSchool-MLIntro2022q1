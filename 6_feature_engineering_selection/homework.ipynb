{
 "cells": [
  {
   "cell_type": "code",
   "execution_count": 56,
   "metadata": {},
   "outputs": [],
   "source": [
    "import numpy as np\n",
    "import pandas as pd\n",
    "import seaborn as sns\n",
    "import matplotlib.pyplot as plt\n",
    "\n",
    "from sklearn.impute import SimpleImputer\n",
    "from sklearn.preprocessing import StandardScaler, MinMaxScaler, OrdinalEncoder, OneHotEncoder\n",
    "from sklearn.decomposition import PCA\n",
    "\n",
    "from sklearn.feature_selection import VarianceThreshold, SelectFromModel, RFECV, SequentialFeatureSelector\n",
    "\n",
    "from sklearn.ensemble import RandomForestClassifier, RandomForestRegressor\n",
    "from sklearn.linear_model import LogisticRegression\n",
    "\n",
    "from sklearn.model_selection import KFold, cross_val_score, train_test_split\n",
    "from sklearn.pipeline import Pipeline, make_pipeline\n",
    "from sklearn.metrics import accuracy_score\n",
    "\n",
    "from sklearn.datasets import make_classification, load_wine, load_breast_cancer, load_diabetes, load_digits\n",
    "\n",
    "from sklearn.exceptions import NotFittedError"
   ]
  },
  {
   "cell_type": "code",
   "execution_count": 57,
   "metadata": {},
   "outputs": [],
   "source": [
    "plt.style.use('seaborn-darkgrid')"
   ]
  },
  {
   "cell_type": "code",
   "execution_count": 58,
   "metadata": {},
   "outputs": [],
   "source": [
    "def plot_scatter(x, y, auto_scaled=True, title=None, clusters=None):\n",
    "    plt.figure(figsize=(4, 4))\n",
    "    plt.scatter(x, y, c=clusters, cmap='bwr')\n",
    "    \n",
    "    if not auto_scaled:\n",
    "        plt.axis('square')\n",
    "    \n",
    "    plt.grid(True)\n",
    "    plt.title(title)\n",
    "    \n",
    "    plt.show()\n",
    "    \n",
    "def return_X_y(data, target_column):\n",
    "    return data.drop(target_column, axis=1), data[target_column]"
   ]
  },
  {
   "cell_type": "code",
   "execution_count": 59,
   "metadata": {},
   "outputs": [],
   "source": [
    "wine_sklearn = load_wine(as_frame=True)\n",
    "wine_data, wine_labels = wine_sklearn['data'], wine_sklearn['target']"
   ]
  },
  {
   "cell_type": "markdown",
   "metadata": {},
   "source": [
    "# Homework"
   ]
  },
  {
   "cell_type": "markdown",
   "metadata": {},
   "source": [
    "## Exercise  1 - Scaling (2 points)"
   ]
  },
  {
   "cell_type": "markdown",
   "metadata": {},
   "source": [
    "Perform standardization for wine dataset (`wine_data`) using only basic python, numpy and pandas (without using `StandardScaler` and sklearn at all). Implementation of function (or class) that can get dataset as input and return standardized dataset as output is preferrable, but not necessary.\n",
    "\n",
    "Compare you results (output) with `StandardScaler`.\n",
    "\n",
    "**NOTE:**\n",
    "\n",
    "- 1 point for functional version, 2 points for implementing scaling as sklearn pipeline compartible class. \n",
    "- Maximum for the exercise is 2 points.\n"
   ]
  },
  {
   "cell_type": "markdown",
   "metadata": {},
   "source": [
    "### Simple version (1 point)"
   ]
  },
  {
   "cell_type": "code",
   "execution_count": 60,
   "metadata": {},
   "outputs": [],
   "source": [
    "# 1 point\n",
    "def scale(X):\n",
    "    return (X - X.mean()) / np.std(X)"
   ]
  },
  {
   "cell_type": "code",
   "execution_count": 61,
   "metadata": {},
   "outputs": [],
   "source": [
    "assert np.allclose(np.array(scale(wine_data)), StandardScaler().fit_transform(wine_data))"
   ]
  },
  {
   "cell_type": "markdown",
   "metadata": {},
   "source": [
    "### Pipeline Version (2 points)"
   ]
  },
  {
   "cell_type": "markdown",
   "source": [
    "#### Note from doc:\n",
    "\n",
    "The standard score of a sample x is calculated as:\n",
    "z = (x - u) / s\n",
    "where u is the mean of the training samples or zero if `with_mean=False`, and s is the standard deviation of the training samples or one if `with_std=False`.\n",
    "\n",
    "`copy: bool, default=True`\n",
    "If `False`, try to avoid a copy and do inplace scaling instead. This is not guaranteed to always work inplace; e.g. if the data is not a NumPy array or scipy.sparse CSR matrix, a copy may still be returned."
   ],
   "metadata": {
    "collapsed": false,
    "pycharm": {
     "name": "#%% md\n"
    }
   }
  },
  {
   "cell_type": "code",
   "execution_count": 62,
   "metadata": {},
   "outputs": [],
   "source": [
    "# 2 points\n",
    "from sklearn.base import BaseEstimator, TransformerMixin\n",
    "class CustomScaler(BaseEstimator, TransformerMixin):\n",
    "    def __init__(self, columns=None, copy=True, with_mean=True, with_std=True):\n",
    "        self._columns = columns\n",
    "        self._with_mean = with_mean\n",
    "        self._with_std = with_std\n",
    "        self._copy = copy\n",
    "\n",
    "        self._mean = np.array([])\n",
    "        self._std = np.array([])\n",
    "        self._fitted = False\n",
    "\n",
    "    def fit(self, X, y=None):\n",
    "        self._mean = X.mean()\n",
    "        self._std = np.std(X)\n",
    "        self._fitted = True\n",
    "        return self\n",
    "\n",
    "    def transform(self, X, y=None, copy=None):\n",
    "        if not self._fitted:\n",
    "            raise NotFittedError()\n",
    "        if copy is None:\n",
    "            copy = self._copy\n",
    "\n",
    "        mean = self._mean if self._with_mean else 0\n",
    "        std = self._std if self._with_std else 1\n",
    "\n",
    "        if copy:\n",
    "            return (X - mean) / std\n",
    "        else:\n",
    "            X[:] = (X - mean) / std\n",
    "            return X"
   ]
  },
  {
   "cell_type": "code",
   "execution_count": 63,
   "metadata": {},
   "outputs": [],
   "source": [
    "assert np.allclose(CustomScaler().fit_transform(wine_data), StandardScaler().fit_transform(wine_data))"
   ]
  },
  {
   "cell_type": "markdown",
   "metadata": {},
   "source": [
    "## Exercise  2 - Visualization (3 points)"
   ]
  },
  {
   "cell_type": "markdown",
   "metadata": {},
   "source": [
    "As noted earlier, standardization/normalization of data can be crucial for some distance-based ML methods.\n",
    "\n",
    "Let’s generate some toy example of unnormalized data and visualize the importance of this process once more:"
   ]
  },
  {
   "cell_type": "code",
   "execution_count": 64,
   "metadata": {},
   "outputs": [
    {
     "data": {
      "text/plain": "array([[-10.47225949,  -0.15875711],\n       [  2.9575469 ,   0.17052663],\n       [ -5.55196609,   0.60920376],\n       ...,\n       [ 13.81155276,   3.46799755],\n       [ -1.44737949,   4.31818756],\n       [  9.48332283,   4.46610561]])"
     },
     "execution_count": 64,
     "metadata": {},
     "output_type": "execute_result"
    }
   ],
   "source": [
    "feature_0 = np.random.randn(1000) * 10   \n",
    "feature_1 = np.concatenate([np.random.randn(500), np.random.randn(500) + 5])\n",
    "data = np.column_stack([feature_0, feature_1])\n",
    "data "
   ]
  },
  {
   "cell_type": "code",
   "execution_count": 65,
   "metadata": {},
   "outputs": [
    {
     "data": {
      "text/plain": "<Figure size 288x288 with 1 Axes>",
      "image/png": "[encoded data removed]"
     },
     "metadata": {},
     "output_type": "display_data"
    }
   ],
   "source": [
    "plot_scatter(data[:, 0], data[:, 1], auto_scaled=True, title='Data (different axes units!)')"
   ]
  },
  {
   "cell_type": "markdown",
   "metadata": {},
   "source": [
    "**NOTE:** on the plot above axes are scaled differently and we can clearly see two potential *classes/clusters*. In fact `matplotlib` performed `autoscaling` (which is basically can be considered as `MinMaxScaling` of original data) just for better visualization purposes.\n",
    "\n",
    "Let's turn this feature off and visualize the original data on the plot with equally scaled axes:"
   ]
  },
  {
   "cell_type": "code",
   "execution_count": 66,
   "metadata": {},
   "outputs": [
    {
     "data": {
      "text/plain": "<Figure size 288x288 with 1 Axes>",
      "image/png": "[encoded data removed]"
     },
     "metadata": {},
     "output_type": "display_data"
    }
   ],
   "source": [
    "plot_scatter(data[:, 0], data[:, 1], auto_scaled=False , title='Data (equal axes units!)')"
   ]
  },
  {
   "cell_type": "markdown",
   "metadata": {},
   "source": [
    "This picture is clearly less interpretable, but much closer to \"how distance-based algorithm see the original data\": separability of data is hardly noticable only because the variation (std) of x-feature is much bigger in absolute numbers."
   ]
  },
  {
   "cell_type": "markdown",
   "metadata": {},
   "source": [
    "Perform `StandardScaling` and `MinMaxScaling` of original data; visualize results for each case (**use `plot_scatter` with `auto_scaled=False`**):"
   ]
  },
  {
   "cell_type": "markdown",
   "metadata": {},
   "source": [
    "### MinMaxScaling (0.5 point)"
   ]
  },
  {
   "cell_type": "code",
   "execution_count": 67,
   "metadata": {},
   "outputs": [
    {
     "data": {
      "text/plain": "<Figure size 288x288 with 1 Axes>",
      "image/png": "[encoded data removed]"
     },
     "metadata": {},
     "output_type": "display_data"
    }
   ],
   "source": [
    "data_minmax = MinMaxScaler().fit_transform(data)\n",
    "plot_scatter(data_minmax[:, 0], data_minmax[:, 1], auto_scaled=False , title='Data (equal axes units!)')"
   ]
  },
  {
   "cell_type": "markdown",
   "metadata": {},
   "source": [
    "### StandardScaler (0.5 point)"
   ]
  },
  {
   "cell_type": "code",
   "execution_count": 68,
   "metadata": {},
   "outputs": [
    {
     "data": {
      "text/plain": "<Figure size 288x288 with 1 Axes>",
      "image/png": "[encoded data removed]"
     },
     "metadata": {},
     "output_type": "display_data"
    }
   ],
   "source": [
    "data_stdsca = StandardScaler().fit_transform(data)\n",
    "plot_scatter(data_stdsca[:, 0], data_stdsca[:, 1], auto_scaled=False , title='Data (equal axes units!)')"
   ]
  },
  {
   "cell_type": "markdown",
   "metadata": {},
   "source": [
    "### (Bonus) K-means (2 points)"
   ]
  },
  {
   "cell_type": "markdown",
   "metadata": {},
   "source": [
    "Illustrate the impact of scaling on basic distance-based clustering algorithm [K-means](https://towardsdatascience.com/understanding-k-means-clustering-in-machine-learning-6a6e67336aa1) using `data` generated above.\n",
    "\n",
    "**NOTE:** basically, you don't need understanding K-means algorithm here, you just need to:\n",
    "\n",
    "1) run algorithm (with k=2, k - number of clusters/classes) on unscaled data    \n",
    "2) run algorithm (with k=2) on scaled data    \n",
    "3) plot results: highlight different clusters using different colors.\n",
    "\n",
    "You can use this [question](https://stats.stackexchange.com/questions/89809/is-it-important-to-scale-data-before-clustering/89813) as a hint, but I recommend you to plot results using `plot_scatter` with `equal_scaled=True`: it might help you to intuitively understand the reasons of such scaling impact.\n"
   ]
  },
  {
   "cell_type": "code",
   "execution_count": 69,
   "metadata": {},
   "outputs": [
    {
     "data": {
      "text/plain": "<Figure size 288x288 with 1 Axes>",
      "image/png": "[encoded data removed]"
     },
     "metadata": {},
     "output_type": "display_data"
    },
    {
     "data": {
      "text/plain": "(2000,)"
     },
     "execution_count": 69,
     "metadata": {},
     "output_type": "execute_result"
    }
   ],
   "source": [
    "from sklearn.cluster import KMeans\n",
    "\n",
    "data_kmean_nosca = KMeans(n_clusters=2).fit_transform(data)\n",
    "data_kmean_sca = KMeans(n_clusters=2).fit_transform(data_stdsca)\n",
    "plot_scatter(\n",
    "    np.concatenate((data_kmean_nosca[:, 0], data_kmean_sca[:, 0])),\n",
    "    np.concatenate((data_kmean_nosca[:, 1], data_kmean_sca[:, 1])),\n",
    "    clusters=np.concatenate((np.zeros(data.shape[0]), np.ones(data.shape[0]))),\n",
    "    auto_scaled=False , title='Clusters for scaled and not scaled data')\n",
    "np.concatenate((data_kmean_nosca[:, 0], data_kmean_sca[:, 0])).shape"
   ]
  },
  {
   "cell_type": "markdown",
   "metadata": {},
   "source": [
    "## Exercise  3 - Preprocessing Pipeline (2 points)"
   ]
  },
  {
   "cell_type": "code",
   "execution_count": 70,
   "metadata": {},
   "outputs": [],
   "source": [
    "wine_train, wine_val, wine_labels_train, wine_labels_val = train_test_split(wine_data, wine_labels, \n",
    "                                                                            test_size=0.3, random_state=42)"
   ]
  },
  {
   "cell_type": "markdown",
   "metadata": {},
   "source": [
    "Train model (for example, `LogisticRegression(solver='liblinear', penalty='l1')` on raw `wine_train` data; then train same model after data scaling; then add feature selection (and train model again on scaled data). For each experiment all required preprocessing steps (if any) should be wrapped into sklearn pipeline.\n",
    "\n",
    "Measure `accuracy` of all 3 approaches on `wine_val` dataset. Describe and explain results."
   ]
  },
  {
   "cell_type": "code",
   "execution_count": 71,
   "outputs": [],
   "source": [
    "def make_model_1():\n",
    "    return Pipeline([\n",
    "        ('logreg', LogisticRegression(solver='liblinear', penalty='l1'))\n",
    "    ])\n",
    "\n",
    "def make_model_2():\n",
    "    return Pipeline([\n",
    "        ('sca', StandardScaler(copy=False)), # copy is False because LogReg does not have .transform method\n",
    "        ('logreg', LogisticRegression(solver='liblinear', penalty='l1'))\n",
    "    ])\n",
    "\n",
    "def make_model_3(): # todo Feature selection e.g. SequentialFeatureSelector\n",
    "    return Pipeline([\n",
    "        ('logreg', LogisticRegression(solver='liblinear', penalty='l1'))\n",
    "    ])"
   ],
   "metadata": {
    "collapsed": false,
    "pycharm": {
     "name": "#%%\n"
    }
   }
  },
  {
   "cell_type": "code",
   "execution_count": 72,
   "outputs": [],
   "source": [
    "exc3_m1 = make_model_1()\n",
    "exc3_m1.fit(wine_train, wine_labels_train)\n",
    "wine_labels_val_1 = exc3_m1.predict(wine_val)\n",
    "acc_1 = np.sum(wine_labels_val_1 == wine_labels_val) / wine_labels_val.shape[0]\n",
    "\n",
    "wine_train_copy_2 = wine_train.copy()\n",
    "wine_labels_train_copy_2 = wine_labels_train.copy()\n",
    "exc3_m2 = make_model_2()\n",
    "exc3_m2.fit(wine_train_copy_2, wine_labels_train_copy_2)\n",
    "wine_labels_val_2 = exc3_m2.predict(wine_val)\n",
    "acc_2 = np.mean(wine_labels_val_2 == wine_labels_val)"
   ],
   "metadata": {
    "collapsed": false,
    "pycharm": {
     "name": "#%%\n"
    }
   }
  },
  {
   "cell_type": "code",
   "execution_count": 73,
   "outputs": [
    {
     "name": "stdout",
     "output_type": "stream",
     "text": [
      "Pure LogisticRegression accuracy: 0.9815\n",
      "Accuracy with scaled data: 0.9815\n",
      "Accuracy with feature selection: 0.0000\n",
      "\n"
     ]
    }
   ],
   "source": [
    "print('Pure LogisticRegression accuracy: %.4f\\n'\n",
    "      'Accuracy with scaled data: %.4f\\n'\n",
    "      'Accuracy with feature selection: %.4f\\n' % (acc_1, acc_2, 0))"
   ],
   "metadata": {
    "collapsed": false,
    "pycharm": {
     "name": "#%%\n"
    }
   }
  },
  {
   "cell_type": "code",
   "execution_count": 74,
   "outputs": [],
   "source": [
    "# todo summary"
   ],
   "metadata": {
    "collapsed": false,
    "pycharm": {
     "name": "#%%\n"
    }
   }
  },
  {
   "cell_type": "code",
   "execution_count": 75,
   "outputs": [
    {
     "data": {
      "text/plain": "     alcohol  malic_acid   ash  alcalinity_of_ash  magnesium  total_phenols  \\\n138    13.49        3.59  2.19               19.5       88.0           1.62   \n104    12.51        1.73  1.98               20.5       85.0           2.20   \n78     12.33        0.99  1.95               14.8      136.0           1.90   \n36     13.28        1.64  2.84               15.5      110.0           2.60   \n93     12.29        2.83  2.22               18.0       88.0           2.45   \n..       ...         ...   ...                ...        ...            ...   \n71     13.86        1.51  2.67               25.0       86.0           2.95   \n106    12.25        1.73  2.12               19.0       80.0           1.65   \n14     14.38        1.87  2.38               12.0      102.0           3.30   \n92     12.69        1.53  2.26               20.7       80.0           1.38   \n102    12.34        2.45  2.46               21.0       98.0           2.56   \n\n     flavanoids  nonflavanoid_phenols  proanthocyanins  color_intensity   hue  \\\n138        0.48                  0.58             0.88             5.70  0.81   \n104        1.92                  0.32             1.48             2.94  1.04   \n78         1.85                  0.35             2.76             3.40  1.06   \n36         2.68                  0.34             1.36             4.60  1.09   \n93         2.25                  0.25             1.99             2.15  1.15   \n..          ...                   ...              ...              ...   ...   \n71         2.86                  0.21             1.87             3.38  1.36   \n106        2.03                  0.37             1.63             3.40  1.00   \n14         3.64                  0.29             2.96             7.50  1.20   \n92         1.46                  0.58             1.62             3.05  0.96   \n102        2.11                  0.34             1.31             2.80  0.80   \n\n     od280/od315_of_diluted_wines  proline  \n138                          1.82    580.0  \n104                          3.57    672.0  \n78                           2.31    750.0  \n36                           2.78    880.0  \n93                           3.30    290.0  \n..                            ...      ...  \n71                           3.16    410.0  \n106                          3.17    510.0  \n14                           3.00   1547.0  \n92                           2.06    495.0  \n102                          3.38    438.0  \n\n[124 rows x 13 columns]",
      "text/html": "<div>\n<style scoped>\n    .dataframe tbody tr th:only-of-type {\n        vertical-align: middle;\n    }\n\n    .dataframe tbody tr th {\n        vertical-align: top;\n    }\n\n    .dataframe thead th {\n        text-align: right;\n    }\n</style>\n<table border=\"1\" class=\"dataframe\">\n  <thead>\n    <tr style=\"text-align: right;\">\n      <th></th>\n      <th>alcohol</th>\n      <th>malic_acid</th>\n      <th>ash</th>\n      <th>alcalinity_of_ash</th>\n      <th>magnesium</th>\n      <th>total_phenols</th>\n      <th>flavanoids</th>\n      <th>nonflavanoid_phenols</th>\n      <th>proanthocyanins</th>\n      <th>color_intensity</th>\n      <th>hue</th>\n      <th>od280/od315_of_diluted_wines</th>\n      <th>proline</th>\n    </tr>\n  </thead>\n  <tbody>\n    <tr>\n      <th>138</th>\n      <td>13.49</td>\n      <td>3.59</td>\n      <td>2.19</td>\n      <td>19.5</td>\n      <td>88.0</td>\n      <td>1.62</td>\n      <td>0.48</td>\n      <td>0.58</td>\n      <td>0.88</td>\n      <td>5.70</td>\n      <td>0.81</td>\n      <td>1.82</td>\n      <td>580.0</td>\n    </tr>\n    <tr>\n      <th>104</th>\n      <td>12.51</td>\n      <td>1.73</td>\n      <td>1.98</td>\n      <td>20.5</td>\n      <td>85.0</td>\n      <td>2.20</td>\n      <td>1.92</td>\n      <td>0.32</td>\n      <td>1.48</td>\n      <td>2.94</td>\n      <td>1.04</td>\n      <td>3.57</td>\n      <td>672.0</td>\n    </tr>\n    <tr>\n      <th>78</th>\n      <td>12.33</td>\n      <td>0.99</td>\n      <td>1.95</td>\n      <td>14.8</td>\n      <td>136.0</td>\n      <td>1.90</td>\n      <td>1.85</td>\n      <td>0.35</td>\n      <td>2.76</td>\n      <td>3.40</td>\n      <td>1.06</td>\n      <td>2.31</td>\n      <td>750.0</td>\n    </tr>\n    <tr>\n      <th>36</th>\n      <td>13.28</td>\n      <td>1.64</td>\n      <td>2.84</td>\n      <td>15.5</td>\n      <td>110.0</td>\n      <td>2.60</td>\n      <td>2.68</td>\n      <td>0.34</td>\n      <td>1.36</td>\n      <td>4.60</td>\n      <td>1.09</td>\n      <td>2.78</td>\n      <td>880.0</td>\n    </tr>\n    <tr>\n      <th>93</th>\n      <td>12.29</td>\n      <td>2.83</td>\n      <td>2.22</td>\n      <td>18.0</td>\n      <td>88.0</td>\n      <td>2.45</td>\n      <td>2.25</td>\n      <td>0.25</td>\n      <td>1.99</td>\n      <td>2.15</td>\n      <td>1.15</td>\n      <td>3.30</td>\n      <td>290.0</td>\n    </tr>\n    <tr>\n      <th>...</th>\n      <td>...</td>\n      <td>...</td>\n      <td>...</td>\n      <td>...</td>\n      <td>...</td>\n      <td>...</td>\n      <td>...</td>\n      <td>...</td>\n      <td>...</td>\n      <td>...</td>\n      <td>...</td>\n      <td>...</td>\n      <td>...</td>\n    </tr>\n    <tr>\n      <th>71</th>\n      <td>13.86</td>\n      <td>1.51</td>\n      <td>2.67</td>\n      <td>25.0</td>\n      <td>86.0</td>\n      <td>2.95</td>\n      <td>2.86</td>\n      <td>0.21</td>\n      <td>1.87</td>\n      <td>3.38</td>\n      <td>1.36</td>\n      <td>3.16</td>\n      <td>410.0</td>\n    </tr>\n    <tr>\n      <th>106</th>\n      <td>12.25</td>\n      <td>1.73</td>\n      <td>2.12</td>\n      <td>19.0</td>\n      <td>80.0</td>\n      <td>1.65</td>\n      <td>2.03</td>\n      <td>0.37</td>\n      <td>1.63</td>\n      <td>3.40</td>\n      <td>1.00</td>\n      <td>3.17</td>\n      <td>510.0</td>\n    </tr>\n    <tr>\n      <th>14</th>\n      <td>14.38</td>\n      <td>1.87</td>\n      <td>2.38</td>\n      <td>12.0</td>\n      <td>102.0</td>\n      <td>3.30</td>\n      <td>3.64</td>\n      <td>0.29</td>\n      <td>2.96</td>\n      <td>7.50</td>\n      <td>1.20</td>\n      <td>3.00</td>\n      <td>1547.0</td>\n    </tr>\n    <tr>\n      <th>92</th>\n      <td>12.69</td>\n      <td>1.53</td>\n      <td>2.26</td>\n      <td>20.7</td>\n      <td>80.0</td>\n      <td>1.38</td>\n      <td>1.46</td>\n      <td>0.58</td>\n      <td>1.62</td>\n      <td>3.05</td>\n      <td>0.96</td>\n      <td>2.06</td>\n      <td>495.0</td>\n    </tr>\n    <tr>\n      <th>102</th>\n      <td>12.34</td>\n      <td>2.45</td>\n      <td>2.46</td>\n      <td>21.0</td>\n      <td>98.0</td>\n      <td>2.56</td>\n      <td>2.11</td>\n      <td>0.34</td>\n      <td>1.31</td>\n      <td>2.80</td>\n      <td>0.80</td>\n      <td>3.38</td>\n      <td>438.0</td>\n    </tr>\n  </tbody>\n</table>\n<p>124 rows × 13 columns</p>\n</div>"
     },
     "metadata": {},
     "output_type": "display_data"
    },
    {
     "data": {
      "text/plain": "      alcohol  malic_acid       ash  alcalinity_of_ash  magnesium  \\\n138  0.628447    1.081206 -0.652127           0.000000  -0.841477   \n104 -0.540882   -0.612994 -1.427534           0.288180  -1.037487   \n78  -0.755657   -1.287031 -1.538306          -1.354445   2.294697   \n36   0.377877   -0.694972  1.747940          -1.152719   0.595936   \n93  -0.803385    0.388952 -0.541355          -0.432270  -0.841477   \n..        ...         ...       ...                ...        ...   \n71   1.069929   -0.813384  1.120230           1.584989  -0.972150   \n106 -0.851113   -0.612994 -0.910596          -0.144090  -1.364172   \n14   1.690390   -0.485474  0.049431          -2.161348   0.073241   \n92  -0.326107   -0.795166 -0.393659           0.345816  -1.364172   \n102 -0.743725    0.042825  0.344824           0.432270  -0.188107   \n\n     total_phenols  flavanoids  nonflavanoid_phenols  proanthocyanins  \\\n138      -1.003358   -1.517062              1.711448        -1.230771   \n104      -0.112585   -0.086751             -0.350476        -0.195036   \n78       -0.573329   -0.156280             -0.112562         2.014532   \n36        0.501741    0.668135             -0.191866        -0.402183   \n93        0.271369    0.241029             -0.905609         0.685339   \n..             ...         ...                   ...              ...   \n71        1.039276    0.846924             -1.222828         0.478192   \n106      -0.957283    0.022509              0.046048         0.063898   \n14        1.576811    1.621676             -0.588390         2.359777   \n92       -1.371953   -0.543656              1.711448         0.046636   \n102       0.440308    0.101971             -0.191866        -0.488494   \n\n     color_intensity       hue  od280/od315_of_diluted_wines   proline  \n138         0.333174 -0.641378                     -1.070901 -0.518219  \n104        -0.933495  0.346530                      1.330768 -0.215063  \n78         -0.722384  0.432435                     -0.398434  0.041960  \n36         -0.171658  0.561293                      0.246586  0.470333  \n93         -1.296056  0.819008                      0.960225 -1.473819  \n..               ...       ...                           ...       ...  \n71         -0.731562  1.721011                      0.768092 -1.078399  \n106        -0.722384  0.174720                      0.781815 -0.748881  \n14          1.159263  1.033770                      0.548510  2.668214  \n92         -0.883012  0.002910                     -0.741529 -0.798309  \n102        -0.997747 -0.684331                      1.070016 -0.986134  \n\n[124 rows x 13 columns]",
      "text/html": "<div>\n<style scoped>\n    .dataframe tbody tr th:only-of-type {\n        vertical-align: middle;\n    }\n\n    .dataframe tbody tr th {\n        vertical-align: top;\n    }\n\n    .dataframe thead th {\n        text-align: right;\n    }\n</style>\n<table border=\"1\" class=\"dataframe\">\n  <thead>\n    <tr style=\"text-align: right;\">\n      <th></th>\n      <th>alcohol</th>\n      <th>malic_acid</th>\n      <th>ash</th>\n      <th>alcalinity_of_ash</th>\n      <th>magnesium</th>\n      <th>total_phenols</th>\n      <th>flavanoids</th>\n      <th>nonflavanoid_phenols</th>\n      <th>proanthocyanins</th>\n      <th>color_intensity</th>\n      <th>hue</th>\n      <th>od280/od315_of_diluted_wines</th>\n      <th>proline</th>\n    </tr>\n  </thead>\n  <tbody>\n    <tr>\n      <th>138</th>\n      <td>0.628447</td>\n      <td>1.081206</td>\n      <td>-0.652127</td>\n      <td>0.000000</td>\n      <td>-0.841477</td>\n      <td>-1.003358</td>\n      <td>-1.517062</td>\n      <td>1.711448</td>\n      <td>-1.230771</td>\n      <td>0.333174</td>\n      <td>-0.641378</td>\n      <td>-1.070901</td>\n      <td>-0.518219</td>\n    </tr>\n    <tr>\n      <th>104</th>\n      <td>-0.540882</td>\n      <td>-0.612994</td>\n      <td>-1.427534</td>\n      <td>0.288180</td>\n      <td>-1.037487</td>\n      <td>-0.112585</td>\n      <td>-0.086751</td>\n      <td>-0.350476</td>\n      <td>-0.195036</td>\n      <td>-0.933495</td>\n      <td>0.346530</td>\n      <td>1.330768</td>\n      <td>-0.215063</td>\n    </tr>\n    <tr>\n      <th>78</th>\n      <td>-0.755657</td>\n      <td>-1.287031</td>\n      <td>-1.538306</td>\n      <td>-1.354445</td>\n      <td>2.294697</td>\n      <td>-0.573329</td>\n      <td>-0.156280</td>\n      <td>-0.112562</td>\n      <td>2.014532</td>\n      <td>-0.722384</td>\n      <td>0.432435</td>\n      <td>-0.398434</td>\n      <td>0.041960</td>\n    </tr>\n    <tr>\n      <th>36</th>\n      <td>0.377877</td>\n      <td>-0.694972</td>\n      <td>1.747940</td>\n      <td>-1.152719</td>\n      <td>0.595936</td>\n      <td>0.501741</td>\n      <td>0.668135</td>\n      <td>-0.191866</td>\n      <td>-0.402183</td>\n      <td>-0.171658</td>\n      <td>0.561293</td>\n      <td>0.246586</td>\n      <td>0.470333</td>\n    </tr>\n    <tr>\n      <th>93</th>\n      <td>-0.803385</td>\n      <td>0.388952</td>\n      <td>-0.541355</td>\n      <td>-0.432270</td>\n      <td>-0.841477</td>\n      <td>0.271369</td>\n      <td>0.241029</td>\n      <td>-0.905609</td>\n      <td>0.685339</td>\n      <td>-1.296056</td>\n      <td>0.819008</td>\n      <td>0.960225</td>\n      <td>-1.473819</td>\n    </tr>\n    <tr>\n      <th>...</th>\n      <td>...</td>\n      <td>...</td>\n      <td>...</td>\n      <td>...</td>\n      <td>...</td>\n      <td>...</td>\n      <td>...</td>\n      <td>...</td>\n      <td>...</td>\n      <td>...</td>\n      <td>...</td>\n      <td>...</td>\n      <td>...</td>\n    </tr>\n    <tr>\n      <th>71</th>\n      <td>1.069929</td>\n      <td>-0.813384</td>\n      <td>1.120230</td>\n      <td>1.584989</td>\n      <td>-0.972150</td>\n      <td>1.039276</td>\n      <td>0.846924</td>\n      <td>-1.222828</td>\n      <td>0.478192</td>\n      <td>-0.731562</td>\n      <td>1.721011</td>\n      <td>0.768092</td>\n      <td>-1.078399</td>\n    </tr>\n    <tr>\n      <th>106</th>\n      <td>-0.851113</td>\n      <td>-0.612994</td>\n      <td>-0.910596</td>\n      <td>-0.144090</td>\n      <td>-1.364172</td>\n      <td>-0.957283</td>\n      <td>0.022509</td>\n      <td>0.046048</td>\n      <td>0.063898</td>\n      <td>-0.722384</td>\n      <td>0.174720</td>\n      <td>0.781815</td>\n      <td>-0.748881</td>\n    </tr>\n    <tr>\n      <th>14</th>\n      <td>1.690390</td>\n      <td>-0.485474</td>\n      <td>0.049431</td>\n      <td>-2.161348</td>\n      <td>0.073241</td>\n      <td>1.576811</td>\n      <td>1.621676</td>\n      <td>-0.588390</td>\n      <td>2.359777</td>\n      <td>1.159263</td>\n      <td>1.033770</td>\n      <td>0.548510</td>\n      <td>2.668214</td>\n    </tr>\n    <tr>\n      <th>92</th>\n      <td>-0.326107</td>\n      <td>-0.795166</td>\n      <td>-0.393659</td>\n      <td>0.345816</td>\n      <td>-1.364172</td>\n      <td>-1.371953</td>\n      <td>-0.543656</td>\n      <td>1.711448</td>\n      <td>0.046636</td>\n      <td>-0.883012</td>\n      <td>0.002910</td>\n      <td>-0.741529</td>\n      <td>-0.798309</td>\n    </tr>\n    <tr>\n      <th>102</th>\n      <td>-0.743725</td>\n      <td>0.042825</td>\n      <td>0.344824</td>\n      <td>0.432270</td>\n      <td>-0.188107</td>\n      <td>0.440308</td>\n      <td>0.101971</td>\n      <td>-0.191866</td>\n      <td>-0.488494</td>\n      <td>-0.997747</td>\n      <td>-0.684331</td>\n      <td>1.070016</td>\n      <td>-0.986134</td>\n    </tr>\n  </tbody>\n</table>\n<p>124 rows × 13 columns</p>\n</div>"
     },
     "metadata": {},
     "output_type": "display_data"
    }
   ],
   "source": [
    "display(wine_train)\n",
    "display(wine_train_copy_2)"
   ],
   "metadata": {
    "collapsed": false,
    "pycharm": {
     "name": "#%%\n"
    }
   }
  },
  {
   "cell_type": "code",
   "execution_count": 76,
   "outputs": [
    {
     "ename": "AssertionError",
     "evalue": "",
     "output_type": "error",
     "traceback": [
      "\u001B[1;31m---------------------------------------------------------------------------\u001B[0m",
      "\u001B[1;31mAssertionError\u001B[0m                            Traceback (most recent call last)",
      "Input \u001B[1;32mIn [76]\u001B[0m, in \u001B[0;36m<module>\u001B[1;34m\u001B[0m\n\u001B[1;32m----> 1\u001B[0m \u001B[38;5;28;01massert\u001B[39;00m \u001B[38;5;28;01mFalse\u001B[39;00m\n",
      "\u001B[1;31mAssertionError\u001B[0m: "
     ]
    }
   ],
   "source": [
    "assert False"
   ],
   "metadata": {
    "collapsed": false,
    "pycharm": {
     "name": "#%%\n"
    }
   }
  },
  {
   "cell_type": "markdown",
   "metadata": {},
   "source": [
    "## Exercise 4 - manual PCA (5 points)\n",
    "The task is to solve PCA as an optimization problem, without explicitly doing eigen value decomposition.\n",
    "In the most general setting PCA is minimization of reconstruction error of a projection of given rank $q$\n",
    "\n",
    "$$\\min_{\\mu, \\lambda_1,\\ldots, \\lambda_n, \\mathbf{V}_q} \\sum_{i=1}^n ||x_i - \\mu - \\mathbf{V}_q \\lambda_i||^2$$\n",
    "\n",
    "With a number of steps that can be found here https://stats.stackexchange.com/a/10260 this task transforms to\n",
    " $$\\max_{u_i} \\sum_{i=1}^q u_i^T \\mathbf{S} u_i$$\n",
    " where $\\mathbf{S}$ is the sample covariance matrix (after standartization) and $u_1, \\ldots, u_q$ are the $q$ are orthonormal columns in $\\mathbf{V}_q$.\n",
    " Let us solve this optimization problem with `scipy.optimize` library.\n",
    " \n",
    " Additional 2 point are given for visualization of the results."
   ]
  },
  {
   "cell_type": "markdown",
   "metadata": {},
   "source": [
    "### PCA (3 points)"
   ]
  },
  {
   "cell_type": "code",
   "execution_count": null,
   "metadata": {},
   "outputs": [],
   "source": [
    "wine_data, wine_labels = wine_sklearn['data'], wine_sklearn['target']"
   ]
  },
  {
   "cell_type": "markdown",
   "metadata": {},
   "source": [
    "Find a covariance matrix of standartized data and assing it to S."
   ]
  },
  {
   "cell_type": "code",
   "execution_count": null,
   "metadata": {},
   "outputs": [],
   "source": [
    "## your code\n",
    "\n",
    "S = ## your code"
   ]
  },
  {
   "cell_type": "markdown",
   "metadata": {},
   "source": [
    "If your code is correct, the following assert should be Ok."
   ]
  },
  {
   "cell_type": "code",
   "execution_count": null,
   "metadata": {},
   "outputs": [],
   "source": [
    "assert np.allclose(np.linalg.norm(S), 5.787241159764733)"
   ]
  },
  {
   "cell_type": "code",
   "execution_count": null,
   "metadata": {},
   "outputs": [],
   "source": [
    "from scipy.optimize import minimize\n",
    "\n",
    "def objective(x):\n",
    "    # your code: write objective of the problem (don't forget that scipy does min while we need max)\n",
    "\n",
    "def norm_constraint(x):\n",
    "    # your code: constaraint norm of x to be 1, function should return 0 if constraint holds\n",
    "\n",
    "con1 = {'type': 'eq', 'fun': norm_constraint}\n",
    "\n",
    "x0 = # your code: initial vector to start optimization\n",
    "\n",
    "sol = minimize(objective, \n",
    "               x0, \n",
    "               constraints = [con1]\n",
    "              )\n",
    "x0 = sol.x"
   ]
  },
  {
   "cell_type": "markdown",
   "metadata": {},
   "source": [
    "Hurray! We have first vector! Let's do another one."
   ]
  },
  {
   "cell_type": "code",
   "execution_count": null,
   "metadata": {},
   "outputs": [],
   "source": [
    "def orthogonality_constraint(x):\n",
    "    # your code: x should be orthogonal to x0, function should return 0 if constraint holds\n",
    "\n",
    "con2 = {'type': 'eq', 'fun': orthogonality_constraint}\n",
    "\n",
    "x1 = # your code: initial vector to start optimization\n",
    "\n",
    "\n",
    "sol = minimize(objective, \n",
    "               x1, \n",
    "               constraints = #your code\n",
    "              )\n",
    "\n",
    "x1 = sol.x"
   ]
  },
  {
   "cell_type": "markdown",
   "metadata": {},
   "source": [
    "If your solution is correct, the following asserts should be Ok."
   ]
  },
  {
   "cell_type": "code",
   "execution_count": null,
   "metadata": {},
   "outputs": [],
   "source": [
    "assert np.allclose(x0@S@x0, 4.732436977583595)\n",
    "assert np.allclose(x1@S@x1, 2.5110809296451233)"
   ]
  },
  {
   "cell_type": "markdown",
   "metadata": {},
   "source": [
    "### Visualization (2 points)"
   ]
  },
  {
   "cell_type": "markdown",
   "metadata": {},
   "source": [
    "Visualize the points after applying custom dimension reduction with 2 components."
   ]
  },
  {
   "cell_type": "markdown",
   "metadata": {},
   "source": [
    "## Exercise 5 - Boruta (3 points)\n",
    "\n",
    "Let us classify handwritten digits 0, 1 and 2. \n",
    "To make task not so easy the images are binarized (no shadows of gray present) as it happens with xerocopied documents.\n",
    "\n",
    "Let us also find out to which parts of an image there's no need to look in order to clasify three digits of interest."
   ]
  },
  {
   "cell_type": "code",
   "execution_count": null,
   "metadata": {},
   "outputs": [],
   "source": [
    "X, y = load_digits(n_class=3, return_X_y=True, as_frame=True)\n",
    "X = (X>10).astype(int)"
   ]
  },
  {
   "cell_type": "code",
   "execution_count": null,
   "metadata": {},
   "outputs": [],
   "source": [
    "f, ax = plt.subplots(1,3,figsize=(10,4))\n",
    "for i in range(3):\n",
    "    ax[i].imshow(X.iloc[i].values.reshape(8,8))\n",
    "    ax[i].set_title(f\"This is digit {y[i]}.\")\n",
    "plt.suptitle(\"First three images.\")\n",
    "plt.show()"
   ]
  },
  {
   "cell_type": "markdown",
   "metadata": {},
   "source": [
    "Split data into train and test, let test size be 30% of the dataset and fix random state to 42:"
   ]
  },
  {
   "cell_type": "code",
   "execution_count": null,
   "metadata": {},
   "outputs": [],
   "source": [
    "X_train, X_val, y_train, y_val = ## your code here"
   ]
  },
  {
   "cell_type": "code",
   "execution_count": null,
   "metadata": {},
   "outputs": [],
   "source": [
    "assert y_val.shape[0] == 162\n",
    "assert y_val.sum() == 169"
   ]
  },
  {
   "cell_type": "markdown",
   "metadata": {},
   "source": [
    "Fit a RandomForestClassifier with max_depth=13 and evaluate it's performance:"
   ]
  },
  {
   "cell_type": "code",
   "execution_count": null,
   "metadata": {},
   "outputs": [],
   "source": [
    "clf = RandomForestClassifier(max_depth=13)\n",
    "\n",
    "# your code here\n",
    "\n",
    "acc = # your code here\n",
    "print(acc)"
   ]
  },
  {
   "cell_type": "code",
   "execution_count": null,
   "metadata": {},
   "outputs": [],
   "source": [
    "assert acc > 0.98"
   ]
  },
  {
   "cell_type": "markdown",
   "metadata": {},
   "source": [
    "Now we will use Boruta to find redundand pixels. If the package is not installed in your system, uncomment and run the following cell."
   ]
  },
  {
   "cell_type": "code",
   "execution_count": null,
   "metadata": {},
   "outputs": [],
   "source": [
    "# ! pip install boruta"
   ]
  },
  {
   "cell_type": "code",
   "execution_count": null,
   "metadata": {},
   "outputs": [],
   "source": [
    "from boruta import BorutaPy\n",
    "\n",
    "feat_selector = BorutaPy(RandomForestClassifier(max_depth=13), \n",
    "                         n_estimators='auto', \n",
    "                         verbose=0, \n",
    "                         max_iter=100,\n",
    "                         random_state=42)\n",
    "\n",
    "# your code here: do run the boruta"
   ]
  },
  {
   "cell_type": "markdown",
   "metadata": {},
   "source": [
    "Let us print redundant pixels as a mask. Does the result looks similar to mine (or to Among us chracters)? "
   ]
  },
  {
   "cell_type": "code",
   "execution_count": null,
   "metadata": {},
   "outputs": [],
   "source": [
    "mask = np.array(feat_selector.support_).reshape(8,8)\n",
    "plt.imshow(mask);"
   ]
  },
  {
   "cell_type": "markdown",
   "metadata": {},
   "source": [
    "At the end let us redo  classification but only with selected features"
   ]
  },
  {
   "cell_type": "code",
   "execution_count": null,
   "metadata": {},
   "outputs": [],
   "source": [
    "clf = RandomForestClassifier(max_depth=13)\n",
    "\n",
    "# your code here\n",
    "\n",
    "acc = # your code here\n",
    "print(acc)"
   ]
  },
  {
   "cell_type": "code",
   "execution_count": null,
   "metadata": {},
   "outputs": [],
   "source": [
    "assert acc > 0.99"
   ]
  },
  {
   "cell_type": "markdown",
   "metadata": {},
   "source": [
    "# Materials & References"
   ]
  },
  {
   "cell_type": "markdown",
   "metadata": {},
   "source": [
    "1. General article about feature engineering and selection (main reference):\n",
    "https://github.com/Yorko/mlcourse.ai/blob/master/jupyter_english/topic06_features_regression/topic6_feature_engineering_feature_selection.ipynb\n",
    "\n",
    "2. Feature engineering/preprocessing, using scikit-learn API (great code examples, but really brief explanation):    \n",
    "https://scikit-learn.org/stable/modules/preprocessing\n",
    "\n",
    "3. Feature scaling/normalization:     \n",
    "https://towardsdatascience.com/all-about-feature-scaling-bcc0ad75cb35\n",
    "\n",
    "4. Log Transform/power transform:    \n",
    "https://medium.com/@kyawsawhtoon/log-transformation-purpose-and-interpretation-9444b4b049c9\n",
    "\n",
    "6. Missing values preprocessing using scikit-learn API (great code examples, great explanation):    \n",
    "https://scikit-learn.org/stable/modules/impute.html\n",
    "\n",
    "7. Feature selection scikit-learn API (great code examples, great explanation):   \n",
    "https://scikit-learn.org/stable/modules/feature_selection.html\n",
    "\n",
    "8. Melbourne housing dataset source:    \n",
    "https://www.kaggle.com/anthonypino/melbourne-housing-market"
   ]
  }
 ],
 "metadata": {
  "kernelspec": {
   "display_name": "Python 3 (ipykernel)",
   "language": "python",
   "name": "python3"
  },
  "language_info": {
   "codemirror_mode": {
    "name": "ipython",
    "version": 3
   },
   "file_extension": ".py",
   "mimetype": "text/x-python",
   "name": "python",
   "nbconvert_exporter": "python",
   "pygments_lexer": "ipython3",
   "version": "3.9.7"
  },
  "toc": {
   "base_numbering": "1",
   "nav_menu": {},
   "number_sections": true,
   "sideBar": true,
   "skip_h1_title": false,
   "title_cell": "Table of Contents",
   "title_sidebar": "Contents",
   "toc_cell": false,
   "toc_position": {
    "height": "calc(100% - 180px)",
    "left": "10px",
    "top": "150px",
    "width": "165px"
   },
   "toc_section_display": true,
   "toc_window_display": true
  }
 },
 "nbformat": 4,
 "nbformat_minor": 4
}